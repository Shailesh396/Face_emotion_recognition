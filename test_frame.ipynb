{
 "cells": [
  {
   "cell_type": "code",
   "execution_count": 8,
   "id": "26098a41",
   "metadata": {},
   "outputs": [],
   "source": [
    "import cv2\n",
    "import numpy as np\n",
    "from keras.models import load_model"
   ]
  },
  {
   "cell_type": "code",
   "execution_count": 9,
   "id": "ab6c4d90",
   "metadata": {},
   "outputs": [],
   "source": [
    "model=load_model('model_file_30epochs.h5')"
   ]
  },
  {
   "cell_type": "code",
   "execution_count": 10,
   "id": "361c0102",
   "metadata": {},
   "outputs": [],
   "source": [
    "faceDetect=cv2.CascadeClassifier('haarcascade_frontalface_default.xml')"
   ]
  },
  {
   "cell_type": "code",
   "execution_count": 11,
   "id": "7c9a1cc3",
   "metadata": {},
   "outputs": [],
   "source": [
    "labels_dict={0:'Angry',1:'Disgust', 2:'Fear', 3:'Happy',4:'Neutral',5:'Sad',6:'Surprise'}"
   ]
  },
  {
   "cell_type": "code",
   "execution_count": 12,
   "id": "c295e486",
   "metadata": {},
   "outputs": [],
   "source": [
    "# len(number_of_image), image_height, image_width, channel\n",
    "\n",
    "frame=cv2.imread(\"faces-small.jpg\")\n",
    "gray=cv2.cvtColor(frame, cv2.COLOR_BGR2GRAY)\n",
    "faces= faceDetect.detectMultiScale(gray, 1.3, 3)"
   ]
  },
  {
   "cell_type": "code",
   "execution_count": 13,
   "id": "5a3420a5",
   "metadata": {},
   "outputs": [
    {
     "name": "stdout",
     "output_type": "stream",
     "text": [
      "1/1 [==============================] - 1s 766ms/step\n",
      "3\n",
      "1/1 [==============================] - 0s 87ms/step\n",
      "3\n",
      "1/1 [==============================] - 0s 73ms/step\n",
      "3\n",
      "1/1 [==============================] - 0s 97ms/step\n",
      "3\n",
      "1/1 [==============================] - 0s 42ms/step\n",
      "4\n",
      "1/1 [==============================] - 0s 154ms/step\n",
      "3\n",
      "1/1 [==============================] - 0s 114ms/step\n",
      "3\n",
      "1/1 [==============================] - 0s 124ms/step\n",
      "3\n",
      "1/1 [==============================] - 0s 91ms/step\n",
      "3\n",
      "1/1 [==============================] - 0s 99ms/step\n",
      "3\n",
      "1/1 [==============================] - 0s 114ms/step\n",
      "3\n",
      "1/1 [==============================] - 0s 100ms/step\n",
      "3\n",
      "1/1 [==============================] - 0s 93ms/step\n",
      "3\n",
      "1/1 [==============================] - 0s 103ms/step\n",
      "3\n",
      "1/1 [==============================] - 0s 27ms/step\n",
      "3\n",
      "1/1 [==============================] - 0s 68ms/step\n",
      "3\n",
      "1/1 [==============================] - 0s 99ms/step\n",
      "3\n",
      "1/1 [==============================] - 0s 305ms/step\n",
      "4\n",
      "1/1 [==============================] - 0s 122ms/step\n",
      "3\n",
      "1/1 [==============================] - 0s 112ms/step\n",
      "3\n",
      "1/1 [==============================] - 0s 134ms/step\n",
      "3\n",
      "1/1 [==============================] - 0s 85ms/step\n",
      "3\n",
      "1/1 [==============================] - 0s 90ms/step\n",
      "3\n",
      "1/1 [==============================] - 0s 120ms/step\n",
      "3\n"
     ]
    }
   ],
   "source": [
    "for x,y,w,h in faces:\n",
    "    sub_face_img=gray[y:y+h, x:x+w]\n",
    "    resized=cv2.resize(sub_face_img,(48,48))\n",
    "    normalize=resized/255.0\n",
    "    reshaped=np.reshape(normalize, (1, 48, 48, 1))\n",
    "    result=model.predict(reshaped)\n",
    "    label=np.argmax(result, axis=1)[0]\n",
    "    print(label)\n",
    "    cv2.rectangle(frame, (x,y), (x+w, y+h), (0,0,255), 1)\n",
    "    cv2.rectangle(frame,(x,y),(x+w,y+h),(50,50,255),2)\n",
    "    cv2.rectangle(frame,(x,y-40),(x+w,y),(50,50,255),-1)\n",
    "    cv2.putText(frame, labels_dict[label], (x, y-10),cv2.FONT_HERSHEY_SIMPLEX,0.8,(255,255,255),2)\n",
    "        \n",
    "cv2.imshow(\"Frame\",frame)\n",
    "cv2.waitKey(0)\n",
    "cv2.destroyAllWindows()"
   ]
  },
  {
   "cell_type": "code",
   "execution_count": null,
   "id": "e160bd5d",
   "metadata": {},
   "outputs": [],
   "source": []
  }
 ],
 "metadata": {
  "kernelspec": {
   "display_name": "Python 3 (ipykernel)",
   "language": "python",
   "name": "python3"
  },
  "language_info": {
   "codemirror_mode": {
    "name": "ipython",
    "version": 3
   },
   "file_extension": ".py",
   "mimetype": "text/x-python",
   "name": "python",
   "nbconvert_exporter": "python",
   "pygments_lexer": "ipython3",
   "version": "3.9.13"
  }
 },
 "nbformat": 4,
 "nbformat_minor": 5
}
